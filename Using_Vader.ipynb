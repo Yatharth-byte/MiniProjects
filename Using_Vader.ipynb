{
  "nbformat": 4,
  "nbformat_minor": 0,
  "metadata": {
    "colab": {
      "name": "Using Vader.ipynb",
      "provenance": [],
      "collapsed_sections": [],
      "mount_file_id": "1pbdPD9P6xdUDUsskX69nlWCJvQrvc5t_",
      "authorship_tag": "ABX9TyNXqCX6KT7HFdyXfKHDsTXc",
      "include_colab_link": true
    },
    "kernelspec": {
      "name": "python3",
      "display_name": "Python 3"
    },
    "language_info": {
      "name": "python"
    }
  },
  "cells": [
    {
      "cell_type": "markdown",
      "metadata": {
        "id": "view-in-github",
        "colab_type": "text"
      },
      "source": [
        "<a href=\"https://colab.research.google.com/github/Yatharth-byte/MiniProjects/blob/main/Using_Vader.ipynb\" target=\"_parent\"><img src=\"https://colab.research.google.com/assets/colab-badge.svg\" alt=\"Open In Colab\"/></a>"
      ]
    },
    {
      "cell_type": "code",
      "metadata": {
        "id": "1rcmb7KePAkD"
      },
      "source": [
        "!pip install contractions\n",
        "!pip install vaderSentiment"
      ],
      "execution_count": null,
      "outputs": []
    },
    {
      "cell_type": "code",
      "metadata": {
        "id": "jIGtEvH_ruKR"
      },
      "source": [
        "import requests\n",
        "import pandas as pd\n",
        "import numpy as np\n",
        "import os\n",
        "import contractions\n",
        "import re"
      ],
      "execution_count": null,
      "outputs": []
    },
    {
      "cell_type": "code",
      "metadata": {
        "id": "sIvQeuOktJzO"
      },
      "source": [
        "from vaderSentiment.vaderSentiment import SentimentIntensityAnalyzer\n",
        "from bs4 import BeautifulSoup\n",
        "from nltk.tokenize.toktok import ToktokTokenizer\n",
        "\n",
        "tokenizer = ToktokTokenizer()\n",
        "analyzer = SentimentIntensityAnalyzer()"
      ],
      "execution_count": null,
      "outputs": []
    },
    {
      "cell_type": "code",
      "metadata": {
        "colab": {
          "base_uri": "https://localhost:8080/"
        },
        "id": "Er9xjthF6vjB",
        "outputId": "767f97fb-1f37-4a01-f6c4-bd5632e4da52"
      },
      "source": [
        "import nltk\n",
        "nltk.download('stopwords')\n",
        "stopwordslist = nltk.corpus.stopwords.words('english')"
      ],
      "execution_count": null,
      "outputs": [
        {
          "output_type": "stream",
          "text": [
            "[nltk_data] Downloading package stopwords to /root/nltk_data...\n",
            "[nltk_data]   Package stopwords is already up-to-date!\n"
          ],
          "name": "stdout"
        }
      ]
    },
    {
      "cell_type": "code",
      "metadata": {
        "id": "HyFjZEkDI5TA"
      },
      "source": [
        "stopwordslist.remove('no')\n",
        "stopwordslist.remove('not')"
      ],
      "execution_count": null,
      "outputs": []
    },
    {
      "cell_type": "code",
      "metadata": {
        "id": "xixelxzRB9SX"
      },
      "source": [
        "def Preprocess_dataset(text):\n",
        "  text = text.lower()\n",
        "\n",
        "  tokens = tokenizer.tokenize(text)\n",
        "  tokens = [token.strip() for token in tokens]\n",
        "  filteredtokens = [token for token in tokens if token not in stopwordslist]\n",
        "  filteredtokens = ' '.join(filteredtokens)\n",
        "\n",
        "  expand = contractions.fix(filteredtokens)\n",
        "\n",
        "  pattern = r'[^a-zA-Z0-9\\s]'\n",
        "  new_text = re.sub(pattern,'',expand)\n",
        "\n",
        "  return new_text"
      ],
      "execution_count": null,
      "outputs": []
    },
    {
      "cell_type": "code",
      "metadata": {
        "id": "lxwd6ED2PNsr"
      },
      "source": [
        "dataset = pd.read_csv('/content/drive/MyDrive/Major Project/News Articles.csv')"
      ],
      "execution_count": null,
      "outputs": []
    },
    {
      "cell_type": "code",
      "metadata": {
        "id": "OgBHjW9XPl9q"
      },
      "source": [
        "dataset.news_article = dataset.news_article.apply(Preprocess_dataset)"
      ],
      "execution_count": null,
      "outputs": []
    },
    {
      "cell_type": "code",
      "metadata": {
        "id": "VhSvwqrtLRqw"
      },
      "source": [
        "dataset.news_headline = dataset.news_headline.apply(Preprocess_dataset)"
      ],
      "execution_count": null,
      "outputs": []
    },
    {
      "cell_type": "code",
      "metadata": {
        "id": "12qdrs19Ppp9"
      },
      "source": [
        "dataset['Postive'] = dataset['news_article'].apply(lambda x: analyzer.polarity_scores(x)['pos'])\n",
        "dataset['Neutral'] = dataset['news_article'].apply(lambda x: analyzer.polarity_scores(x)['neu'])\n",
        "dataset['Negative'] = dataset['news_article'].apply(lambda x: analyzer.polarity_scores(x)['neg'])"
      ],
      "execution_count": null,
      "outputs": []
    },
    {
      "cell_type": "code",
      "metadata": {
        "colab": {
          "base_uri": "https://localhost:8080/",
          "height": 417
        },
        "id": "dTwsNINWQInL",
        "outputId": "685e8785-40f1-4bc9-a175-13340c4bc922"
      },
      "source": [
        "dataset['Compound'] = dataset['news_article'].apply(lambda x: analyzer.polarity_scores(x)['compound'])\n",
        "dataset"
      ],
      "execution_count": null,
      "outputs": [
        {
          "output_type": "execute_result",
          "data": {
            "text/html": [
              "<div>\n",
              "<style scoped>\n",
              "    .dataframe tbody tr th:only-of-type {\n",
              "        vertical-align: middle;\n",
              "    }\n",
              "\n",
              "    .dataframe tbody tr th {\n",
              "        vertical-align: top;\n",
              "    }\n",
              "\n",
              "    .dataframe thead th {\n",
              "        text-align: right;\n",
              "    }\n",
              "</style>\n",
              "<table border=\"1\" class=\"dataframe\">\n",
              "  <thead>\n",
              "    <tr style=\"text-align: right;\">\n",
              "      <th></th>\n",
              "      <th>news_headline</th>\n",
              "      <th>news_article</th>\n",
              "      <th>news_category</th>\n",
              "      <th>Postive</th>\n",
              "      <th>Neutral</th>\n",
              "      <th>Negative</th>\n",
              "      <th>Compound</th>\n",
              "    </tr>\n",
              "  </thead>\n",
              "  <tbody>\n",
              "    <tr>\n",
              "      <th>0</th>\n",
              "      <td>Wrestler Sushil asks for protein supplements, ...</td>\n",
              "      <td>olympic medalwinning wrestler sushil kumar  ar...</td>\n",
              "      <td>sports</td>\n",
              "      <td>0.095</td>\n",
              "      <td>0.714</td>\n",
              "      <td>0.190</td>\n",
              "      <td>-0.7003</td>\n",
              "    </tr>\n",
              "    <tr>\n",
              "      <th>1</th>\n",
              "      <td>Manjrekar's chat with Twitter user goes viral,...</td>\n",
              "      <td>twitter user shared screenshots personal chat ...</td>\n",
              "      <td>sports</td>\n",
              "      <td>0.062</td>\n",
              "      <td>0.938</td>\n",
              "      <td>0.000</td>\n",
              "      <td>0.3400</td>\n",
              "    </tr>\n",
              "    <tr>\n",
              "      <th>2</th>\n",
              "      <td>Sometimes, we didn't want to see each other: P...</td>\n",
              "      <td>exbcci chief selector msk prasad revealed sele...</td>\n",
              "      <td>sports</td>\n",
              "      <td>0.222</td>\n",
              "      <td>0.702</td>\n",
              "      <td>0.076</td>\n",
              "      <td>0.6369</td>\n",
              "    </tr>\n",
              "    <tr>\n",
              "      <th>3</th>\n",
              "      <td>I don't count goals: Chhetri on surpassing Mes...</td>\n",
              "      <td>asked counting number international goals  ind...</td>\n",
              "      <td>sports</td>\n",
              "      <td>0.114</td>\n",
              "      <td>0.886</td>\n",
              "      <td>0.000</td>\n",
              "      <td>0.4588</td>\n",
              "    </tr>\n",
              "    <tr>\n",
              "      <th>4</th>\n",
              "      <td>After French Open, world no. 2 Osaka withdraws...</td>\n",
              "      <td>women  world number two naomi osaka monday wit...</td>\n",
              "      <td>sports</td>\n",
              "      <td>0.168</td>\n",
              "      <td>0.779</td>\n",
              "      <td>0.053</td>\n",
              "      <td>0.6808</td>\n",
              "    </tr>\n",
              "    <tr>\n",
              "      <th>...</th>\n",
              "      <td>...</td>\n",
              "      <td>...</td>\n",
              "      <td>...</td>\n",
              "      <td>...</td>\n",
              "      <td>...</td>\n",
              "      <td>...</td>\n",
              "      <td>...</td>\n",
              "    </tr>\n",
              "    <tr>\n",
              "      <th>70</th>\n",
              "      <td>I printed out negative feedback when Reddit wa...</td>\n",
              "      <td>reddit cofounder alexis ohanian took twitter s...</td>\n",
              "      <td>technology</td>\n",
              "      <td>0.119</td>\n",
              "      <td>0.583</td>\n",
              "      <td>0.298</td>\n",
              "      <td>-0.8908</td>\n",
              "    </tr>\n",
              "    <tr>\n",
              "      <th>71</th>\n",
              "      <td>Indian investors made $241 mn profit from Bitc...</td>\n",
              "      <td>us topped list countries earned investing bitc...</td>\n",
              "      <td>technology</td>\n",
              "      <td>0.209</td>\n",
              "      <td>0.791</td>\n",
              "      <td>0.000</td>\n",
              "      <td>0.8271</td>\n",
              "    </tr>\n",
              "    <tr>\n",
              "      <th>72</th>\n",
              "      <td>Hong Kong to test linking China's digital yuan...</td>\n",
              "      <td>hong kong test linking domestic payments netwo...</td>\n",
              "      <td>technology</td>\n",
              "      <td>0.000</td>\n",
              "      <td>1.000</td>\n",
              "      <td>0.000</td>\n",
              "      <td>0.0000</td>\n",
              "    </tr>\n",
              "    <tr>\n",
              "      <th>73</th>\n",
              "      <td>Dell sued over 'misleading' claims about Alien...</td>\n",
              "      <td>dell facing lawsuit us running  false misleadi...</td>\n",
              "      <td>technology</td>\n",
              "      <td>0.115</td>\n",
              "      <td>0.736</td>\n",
              "      <td>0.149</td>\n",
              "      <td>-0.1280</td>\n",
              "    </tr>\n",
              "    <tr>\n",
              "      <th>74</th>\n",
              "      <td>Auction house Phillips to accept Bitcoin, Ethe...</td>\n",
              "      <td>auction house phillips said accept payments bi...</td>\n",
              "      <td>technology</td>\n",
              "      <td>0.179</td>\n",
              "      <td>0.780</td>\n",
              "      <td>0.040</td>\n",
              "      <td>0.7003</td>\n",
              "    </tr>\n",
              "  </tbody>\n",
              "</table>\n",
              "<p>75 rows × 7 columns</p>\n",
              "</div>"
            ],
            "text/plain": [
              "                                        news_headline  ... Compound\n",
              "0   Wrestler Sushil asks for protein supplements, ...  ...  -0.7003\n",
              "1   Manjrekar's chat with Twitter user goes viral,...  ...   0.3400\n",
              "2   Sometimes, we didn't want to see each other: P...  ...   0.6369\n",
              "3   I don't count goals: Chhetri on surpassing Mes...  ...   0.4588\n",
              "4   After French Open, world no. 2 Osaka withdraws...  ...   0.6808\n",
              "..                                                ...  ...      ...\n",
              "70  I printed out negative feedback when Reddit wa...  ...  -0.8908\n",
              "71  Indian investors made $241 mn profit from Bitc...  ...   0.8271\n",
              "72  Hong Kong to test linking China's digital yuan...  ...   0.0000\n",
              "73  Dell sued over 'misleading' claims about Alien...  ...  -0.1280\n",
              "74  Auction house Phillips to accept Bitcoin, Ethe...  ...   0.7003\n",
              "\n",
              "[75 rows x 7 columns]"
            ]
          },
          "metadata": {
            "tags": []
          },
          "execution_count": 74
        }
      ]
    },
    {
      "cell_type": "code",
      "metadata": {
        "id": "Gf8746Awkb_F"
      },
      "source": [
        "def func(n):\n",
        "  if n >= 0.05:\n",
        "    return 'Positive'\n",
        "  elif n > -0.05 and n < 0.05:\n",
        "    return 'Neutral'\n",
        "  elif n <= -0.05:\n",
        "    return 'Negative'\n",
        "dataset.Compound = dataset.Compound.apply(func)"
      ],
      "execution_count": null,
      "outputs": []
    },
    {
      "cell_type": "code",
      "metadata": {
        "colab": {
          "base_uri": "https://localhost:8080/",
          "height": 417
        },
        "id": "PFP8tJTHleuY",
        "outputId": "236db9a1-edbb-41ae-955e-ced3edcc07ba"
      },
      "source": [
        "dataset"
      ],
      "execution_count": null,
      "outputs": [
        {
          "output_type": "execute_result",
          "data": {
            "text/html": [
              "<div>\n",
              "<style scoped>\n",
              "    .dataframe tbody tr th:only-of-type {\n",
              "        vertical-align: middle;\n",
              "    }\n",
              "\n",
              "    .dataframe tbody tr th {\n",
              "        vertical-align: top;\n",
              "    }\n",
              "\n",
              "    .dataframe thead th {\n",
              "        text-align: right;\n",
              "    }\n",
              "</style>\n",
              "<table border=\"1\" class=\"dataframe\">\n",
              "  <thead>\n",
              "    <tr style=\"text-align: right;\">\n",
              "      <th></th>\n",
              "      <th>news_headline</th>\n",
              "      <th>news_article</th>\n",
              "      <th>news_category</th>\n",
              "      <th>Postive</th>\n",
              "      <th>Neutral</th>\n",
              "      <th>Negative</th>\n",
              "      <th>Compound</th>\n",
              "    </tr>\n",
              "  </thead>\n",
              "  <tbody>\n",
              "    <tr>\n",
              "      <th>0</th>\n",
              "      <td>wrestler sushil asks protein supplements  exer...</td>\n",
              "      <td>olympic medalwinning wrestler sushil kumar  ar...</td>\n",
              "      <td>sports</td>\n",
              "      <td>0.095</td>\n",
              "      <td>0.714</td>\n",
              "      <td>0.190</td>\n",
              "      <td>Negative</td>\n",
              "    </tr>\n",
              "    <tr>\n",
              "      <th>1</th>\n",
              "      <td>manjrekar  chat twitter user goes viral  says ...</td>\n",
              "      <td>twitter user shared screenshots personal chat ...</td>\n",
              "      <td>sports</td>\n",
              "      <td>0.062</td>\n",
              "      <td>0.938</td>\n",
              "      <td>0.000</td>\n",
              "      <td>Positive</td>\n",
              "    </tr>\n",
              "    <tr>\n",
              "      <th>2</th>\n",
              "      <td>sometimes   want see  prasad arguments kohli  ...</td>\n",
              "      <td>exbcci chief selector msk prasad revealed sele...</td>\n",
              "      <td>sports</td>\n",
              "      <td>0.222</td>\n",
              "      <td>0.702</td>\n",
              "      <td>0.076</td>\n",
              "      <td>Positive</td>\n",
              "    </tr>\n",
              "    <tr>\n",
              "      <th>3</th>\n",
              "      <td>count goals  chhetri surpassing messi  intern...</td>\n",
              "      <td>asked counting number international goals  ind...</td>\n",
              "      <td>sports</td>\n",
              "      <td>0.114</td>\n",
              "      <td>0.886</td>\n",
              "      <td>0.000</td>\n",
              "      <td>Positive</td>\n",
              "    </tr>\n",
              "    <tr>\n",
              "      <th>4</th>\n",
              "      <td>french open  world no 2 osaka withdraws prewim...</td>\n",
              "      <td>women  world number two naomi osaka monday wit...</td>\n",
              "      <td>sports</td>\n",
              "      <td>0.168</td>\n",
              "      <td>0.779</td>\n",
              "      <td>0.053</td>\n",
              "      <td>Positive</td>\n",
              "    </tr>\n",
              "    <tr>\n",
              "      <th>...</th>\n",
              "      <td>...</td>\n",
              "      <td>...</td>\n",
              "      <td>...</td>\n",
              "      <td>...</td>\n",
              "      <td>...</td>\n",
              "      <td>...</td>\n",
              "      <td>...</td>\n",
              "    </tr>\n",
              "    <tr>\n",
              "      <th>70</th>\n",
              "      <td>printed negative feedback reddit launched  cof...</td>\n",
              "      <td>reddit cofounder alexis ohanian took twitter s...</td>\n",
              "      <td>technology</td>\n",
              "      <td>0.119</td>\n",
              "      <td>0.583</td>\n",
              "      <td>0.298</td>\n",
              "      <td>Negative</td>\n",
              "    </tr>\n",
              "    <tr>\n",
              "      <th>71</th>\n",
              "      <td>indian investors made  241 mn profit bitcoin 2...</td>\n",
              "      <td>us topped list countries earned investing bitc...</td>\n",
              "      <td>technology</td>\n",
              "      <td>0.209</td>\n",
              "      <td>0.791</td>\n",
              "      <td>0.000</td>\n",
              "      <td>Positive</td>\n",
              "    </tr>\n",
              "    <tr>\n",
              "      <th>72</th>\n",
              "      <td>hong kong test linking china  digital yuan dom...</td>\n",
              "      <td>hong kong test linking domestic payments netwo...</td>\n",
              "      <td>technology</td>\n",
              "      <td>0.000</td>\n",
              "      <td>1.000</td>\n",
              "      <td>0.000</td>\n",
              "      <td>Neutral</td>\n",
              "    </tr>\n",
              "    <tr>\n",
              "      <th>73</th>\n",
              "      <td>dell sued  misleading  claims alienware laptop us</td>\n",
              "      <td>dell facing lawsuit us running  false misleadi...</td>\n",
              "      <td>technology</td>\n",
              "      <td>0.115</td>\n",
              "      <td>0.736</td>\n",
              "      <td>0.149</td>\n",
              "      <td>Negative</td>\n",
              "    </tr>\n",
              "    <tr>\n",
              "      <th>74</th>\n",
              "      <td>auction house phillips accept bitcoin  ethereu...</td>\n",
              "      <td>auction house phillips said accept payments bi...</td>\n",
              "      <td>technology</td>\n",
              "      <td>0.179</td>\n",
              "      <td>0.780</td>\n",
              "      <td>0.040</td>\n",
              "      <td>Positive</td>\n",
              "    </tr>\n",
              "  </tbody>\n",
              "</table>\n",
              "<p>75 rows × 7 columns</p>\n",
              "</div>"
            ],
            "text/plain": [
              "                                        news_headline  ...  Compound\n",
              "0   wrestler sushil asks protein supplements  exer...  ...  Negative\n",
              "1   manjrekar  chat twitter user goes viral  says ...  ...  Positive\n",
              "2   sometimes   want see  prasad arguments kohli  ...  ...  Positive\n",
              "3    count goals  chhetri surpassing messi  intern...  ...  Positive\n",
              "4   french open  world no 2 osaka withdraws prewim...  ...  Positive\n",
              "..                                                ...  ...       ...\n",
              "70  printed negative feedback reddit launched  cof...  ...  Negative\n",
              "71  indian investors made  241 mn profit bitcoin 2...  ...  Positive\n",
              "72  hong kong test linking china  digital yuan dom...  ...   Neutral\n",
              "73  dell sued  misleading  claims alienware laptop us  ...  Negative\n",
              "74  auction house phillips accept bitcoin  ethereu...  ...  Positive\n",
              "\n",
              "[75 rows x 7 columns]"
            ]
          },
          "metadata": {
            "tags": []
          },
          "execution_count": 91
        }
      ]
    },
    {
      "cell_type": "code",
      "metadata": {
        "colab": {
          "base_uri": "https://localhost:8080/"
        },
        "id": "lMUxtyraJ7TY",
        "outputId": "c1616756-48e0-4f37-dc37-4cdf2c1cf30a"
      },
      "source": [
        "!pip install streamlit --quiet\n",
        "!pip install pyngrok==4.1.1\n",
        "from pyngrok import ngrok"
      ],
      "execution_count": null,
      "outputs": [
        {
          "output_type": "stream",
          "text": [
            "\u001b[K     |████████████████████████████████| 8.2MB 7.6MB/s \n",
            "\u001b[K     |████████████████████████████████| 112kB 48.5MB/s \n",
            "\u001b[K     |████████████████████████████████| 81kB 10.0MB/s \n",
            "\u001b[K     |████████████████████████████████| 4.2MB 39.7MB/s \n",
            "\u001b[K     |████████████████████████████████| 174kB 44.4MB/s \n",
            "\u001b[K     |████████████████████████████████| 122kB 42.6MB/s \n",
            "\u001b[K     |████████████████████████████████| 71kB 9.2MB/s \n",
            "\u001b[?25h  Building wheel for blinker (setup.py) ... \u001b[?25l\u001b[?25hdone\n",
            "\u001b[31mERROR: google-colab 1.0.0 has requirement ipykernel~=4.10, but you'll have ipykernel 5.5.5 which is incompatible.\u001b[0m\n",
            "Collecting pyngrok==4.1.1\n",
            "  Downloading https://files.pythonhosted.org/packages/e4/a9/de2e15c92eb3aa4a2646ce3a7542317eb69ac47f667578ce8bf916320847/pyngrok-4.1.1.tar.gz\n",
            "Requirement already satisfied: future in /usr/local/lib/python3.7/dist-packages (from pyngrok==4.1.1) (0.16.0)\n",
            "Requirement already satisfied: PyYAML in /usr/local/lib/python3.7/dist-packages (from pyngrok==4.1.1) (3.13)\n",
            "Building wheels for collected packages: pyngrok\n",
            "  Building wheel for pyngrok (setup.py) ... \u001b[?25l\u001b[?25hdone\n",
            "  Created wheel for pyngrok: filename=pyngrok-4.1.1-cp37-none-any.whl size=15985 sha256=e16addde972dfb2e8f367c35736d0cd5c1ee9e98e968a92ab2e51ca8fa8e5e4a\n",
            "  Stored in directory: /root/.cache/pip/wheels/97/71/0d/1695f7c8815c0beb3b5d9b35d6eec9243c87e6070fbe3977fa\n",
            "Successfully built pyngrok\n",
            "Installing collected packages: pyngrok\n",
            "Successfully installed pyngrok-4.1.1\n"
          ],
          "name": "stdout"
        }
      ]
    },
    {
      "cell_type": "code",
      "metadata": {
        "id": "9b-56_T0MhVC",
        "colab": {
          "base_uri": "https://localhost:8080/"
        },
        "outputId": "99f519fe-5bc3-4e8c-cbca-3ad1d3bd7519"
      },
      "source": [
        "%%writefile app.py\n",
        "import streamlit as st\n",
        "from vaderSentiment.vaderSentiment import SentimentIntensityAnalyzer\n",
        "analyzer = SentimentIntensityAnalyzer()\n",
        "\n",
        "st.title(\"Sentimental Analysis Using Lexicon Based Approach...\")\n",
        "st.header(\"Please use proper spelling!\")\n",
        "\n",
        "iput = st.text_input(\"Enter Text:\")\n",
        "oput_dict =  analyzer.polarity_scores(iput)\n",
        "\n",
        "if st.button('Analyze'):\n",
        "  if oput_dict['compound'] >= 0.05:\n",
        "    st.write(' *Positive* :smile:')\n",
        "  elif oput_dict['compound'] <= -0.05:\n",
        "    st.write('*Negative* :angry:')\n",
        "  else:\n",
        "    st.write('*Neutral* :unamused:')"
      ],
      "execution_count": 110,
      "outputs": [
        {
          "output_type": "stream",
          "text": [
            "Overwriting app.py\n"
          ],
          "name": "stdout"
        }
      ]
    },
    {
      "cell_type": "code",
      "metadata": {
        "id": "Muujq8yQPMX-"
      },
      "source": [
        "!nohup streamlit run app.py &\n",
        "url = ngrok.connect(port = '8501')\n",
        "url"
      ],
      "execution_count": null,
      "outputs": []
    },
    {
      "cell_type": "code",
      "metadata": {
        "colab": {
          "base_uri": "https://localhost:8080/",
          "height": 35
        },
        "id": "jjw4aqELjdzU",
        "outputId": "8d347728-07a3-4fa4-c7e9-5438284d370d"
      },
      "source": [
        "import sys\n",
        "sys.version"
      ],
      "execution_count": 115,
      "outputs": [
        {
          "output_type": "execute_result",
          "data": {
            "application/vnd.google.colaboratory.intrinsic+json": {
              "type": "string"
            },
            "text/plain": [
              "'3.7.10 (default, May  3 2021, 02:48:31) \\n[GCC 7.5.0]'"
            ]
          },
          "metadata": {
            "tags": []
          },
          "execution_count": 115
        }
      ]
    }
  ]
}